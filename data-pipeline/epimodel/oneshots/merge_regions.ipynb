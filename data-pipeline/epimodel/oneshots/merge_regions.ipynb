{
 "cells": [
  {
   "cell_type": "code",
   "execution_count": 1,
   "metadata": {},
   "outputs": [],
   "source": [
    "import epimodel\n",
    "import numpy as np\n",
    "import pandas as pd\n",
    "import yaml"
   ]
  },
  {
   "cell_type": "markdown",
   "metadata": {},
   "source": [
    "## New gleam regions, add countries to continents, gleam IDs to countries"
   ]
  },
  {
   "cell_type": "code",
   "execution_count": null,
   "metadata": {},
   "outputs": [],
   "source": [
    "d=pd.read_csv('../../data/sources/md_cities.tsv', delimiter='\\t')"
   ]
  },
  {
   "cell_type": "code",
   "execution_count": null,
   "metadata": {},
   "outputs": [],
   "source": [
    "rds=epimodel.RegionDataset.load('../../data/regions.csv') \n",
    "nd=[] \n",
    "codes=[]\n",
    "for _, a in d.iterrows(): \n",
    "    if a['Country name'] in {'Kosovo', 'Cyprus, Northern'}: \n",
    "        continue \n",
    "    rc = rds.find_one_by_name(a['Country name'], levels='country') \n",
    "    rcnt = rds.find_one_by_name(a['Continent name'], levels='continent') \n",
    "    nd.append([a['City Name'], '', '', 'gleam_basin', '', rcnt.Code, '', rc.Code, rc.CountryCodeISOa3, '', np.nan, np.nan, np.nan, a['City ID']]) \n",
    "    codes.append(f\"G-{a['Airport code']}\")\n",
    "    rds.data.loc[rc.Code, 'GleamID'] = a['Country ID'] \n",
    "    rds.data.loc[rcnt.Code, 'GleamID'] = a['Continent ID'] \n",
    "    rds.data.loc[rc.Code, 'ContinentCode'] = rcnt.Code "
   ]
  },
  {
   "cell_type": "code",
   "execution_count": null,
   "metadata": {},
   "outputs": [],
   "source": [
    "sorted(codes)"
   ]
  },
  {
   "cell_type": "code",
   "execution_count": null,
   "metadata": {},
   "outputs": [],
   "source": [
    "rds.write_csv('../../data/regions-new.csv')"
   ]
  },
  {
   "cell_type": "code",
   "execution_count": null,
   "metadata": {},
   "outputs": [],
   "source": [
    "grds=epimodel.RegionDataset()\n",
    "gd = pd.DataFrame(nd, columns=list(rds.COLUMN_TYPES.keys()), index=pd.Index(codes, name=\"Code\"))\n",
    "grds.data = grds.data.append(gd)\n",
    "grds.data\n",
    "grds._rebuild_index()\n",
    "grds.write_csv('../../data/regions-gleam.csv')"
   ]
  },
  {
   "cell_type": "markdown",
   "metadata": {},
   "source": [
    "## Update populations in gleam regs."
   ]
  },
  {
   "cell_type": "code",
   "execution_count": 2,
   "metadata": {},
   "outputs": [],
   "source": [
    "grds = epimodel.RegionDataset.load('../../data/regions-gleam.csv')"
   ]
  },
  {
   "cell_type": "code",
   "execution_count": 9,
   "metadata": {},
   "outputs": [],
   "source": [
    "with open(\"../../data/sources/regions.yaml\") as f: y = yaml.safe_load(f)"
   ]
  },
  {
   "cell_type": "code",
   "execution_count": 10,
   "metadata": {},
   "outputs": [
    {
     "name": "stdout",
     "output_type": "stream",
     "text": [
      "EE ['Ercan'] ()\n",
      "EE ['Pristina'] ()\n"
     ]
    }
   ],
   "source": [
    "def rec(yr):\n",
    "    if yr['kind'] == 'city':\n",
    "        name = yr['names'][0]\n",
    "        if name.endswith('city'):\n",
    "            name = name[:-5]\n",
    "        gr = grds.find_all_by_name(name)\n",
    "        if len(gr)!=1:\n",
    "            print('EE', yr['names'], gr)\n",
    "        else:\n",
    "            gr = gr[0]\n",
    "            if 'population' in yr:\n",
    "                grds.data.loc[gr.Code, 'Population'] = yr['population']\n",
    "            if 'lat' in yr:\n",
    "                grds.data.loc[gr.Code, 'Lat'] = yr['lat']\n",
    "                grds.data.loc[gr.Code, 'Lon'] = yr['lon']\n",
    "    for i in yr.get('subregions', []):\n",
    "        rec(i)\n",
    "rec(y)"
   ]
  },
  {
   "cell_type": "code",
   "execution_count": 11,
   "metadata": {},
   "outputs": [],
   "source": [
    "grds.write_csv('../../data/regions-gleam.csv')"
   ]
  },
  {
   "cell_type": "code",
   "execution_count": null,
   "metadata": {},
   "outputs": [],
   "source": []
  }
 ],
 "metadata": {
  "kernelspec": {
   "display_name": "Python 3.7.5 64-bit ('.venv': venv)",
   "language": "python",
   "name": "python37564bitvenvvenv9ce34fee7e8645ccab1ef749a42f2fc6"
  },
  "language_info": {
   "codemirror_mode": {
    "name": "ipython",
    "version": 3
   },
   "file_extension": ".py",
   "mimetype": "text/x-python",
   "name": "python",
   "nbconvert_exporter": "python",
   "pygments_lexer": "ipython3",
   "version": "3.7.5"
  }
 },
 "nbformat": 4,
 "nbformat_minor": 4
}
